{
  "cells": [
    {
      "cell_type": "markdown",
      "metadata": {
        "deletable": false,
        "editable": false,
        "nbgrader": {
          "cell_type": "markdown",
          "checksum": "efa1d0edd9b011326ce9cab965aa312c",
          "grade": false,
          "grade_id": "cell-513963dffd022dec",
          "locked": true,
          "schema_version": 3,
          "solution": false
        },
        "id": "UTNfsikpHt4_"
      },
      "source": [
        "# Data Fundamentals (H)\n",
        "John H. Williamson -- Session 2020/2021\n",
        "\n",
        "----\n",
        "\n",
        "**This submission must be your own work; you will have to make a Declaration of Originality on submission.**\n",
        "\n"
      ]
    },
    {
      "cell_type": "code",
      "source": [
        "!unzip /content/week_1_intro.zip"
      ],
      "metadata": {
        "colab": {
          "base_uri": "https://localhost:8080/"
        },
        "id": "9ueH6aVuH32O",
        "outputId": "9c814612-cd4d-4946-aba5-96c3c7fd6294"
      },
      "execution_count": 1,
      "outputs": [
        {
          "output_type": "stream",
          "name": "stdout",
          "text": [
            "Archive:  /content/week_1_intro.zip\n",
            "   creating: week_1_intro/\n",
            "   creating: week_1_intro/data/\n",
            "  inflating: week_1_intro/data/cobra3_redux.obj  \n",
            " extracting: week_1_intro/data/parrots.png  \n",
            "  inflating: week_1_intro/data/snails.txt  \n",
            "  inflating: week_1_intro/data/sunspots.csv  \n",
            "  inflating: week_1_intro/data/Wheat.csv  \n",
            "   creating: week_1_intro/guides/\n",
            "  inflating: week_1_intro/guides/test_array.txt  \n",
            "   creating: week_1_intro/imgs/\n",
            "  inflating: week_1_intro/imgs/1080ti.jpg  \n",
            " extracting: week_1_intro/imgs/castle.png  \n",
            " extracting: week_1_intro/imgs/df3.png  \n",
            "  inflating: week_1_intro/imgs/Dungeon_0.gif  \n",
            "  inflating: week_1_intro/imgs/faces_5.png  \n",
            "  inflating: week_1_intro/imgs/impact.ttf  \n",
            "  inflating: week_1_intro/imgs/join.png  \n",
            "  inflating: week_1_intro/imgs/join.svg  \n",
            "  inflating: week_1_intro/imgs/Low_poly.jpg  \n",
            "  inflating: week_1_intro/imgs/notation.jpg  \n",
            " extracting: week_1_intro/imgs/orchid.png  \n",
            " extracting: week_1_intro/imgs/owl.png  \n",
            "  inflating: week_1_intro/imgs/ranks.png  \n",
            "  inflating: week_1_intro/imgs/ranks.scg.svg  \n",
            "  inflating: week_1_intro/imgs/reshape.png  \n",
            " extracting: week_1_intro/imgs/rocks.png  \n",
            "  inflating: week_1_intro/imgs/snails.jpg  \n",
            "  inflating: week_1_intro/imgs/spread.png  \n",
            " extracting: week_1_intro/imgs/sunset.png  \n",
            " extracting: week_1_intro/imgs/tomb.png  \n",
            "  inflating: week_1_intro/imgs/vectors.svg  \n",
            " extracting: week_1_intro/imgs/venice.png  \n",
            "   creating: week_1_intro/utils/\n",
            "  inflating: week_1_intro/utils/checkarr.py  \n",
            "  inflating: week_1_intro/utils/convert_run.py  \n",
            "  inflating: week_1_intro/utils/float_inspector.py  \n",
            "  inflating: week_1_intro/utils/image_audio.py  \n",
            "  inflating: week_1_intro/utils/lunar.py  \n",
            "  inflating: week_1_intro/utils/make_submission.py  \n",
            "  inflating: week_1_intro/utils/matrices.py  \n",
            "  inflating: week_1_intro/utils/tick.py  \n",
            "  inflating: week_1_intro/utils/tkanvas.py  \n",
            "  inflating: week_1_intro/week_1_intro.ipynb  \n"
          ]
        }
      ]
    },
    {
      "cell_type": "markdown",
      "metadata": {
        "id": "vmsIL6TbHt5E"
      },
      "source": [
        "---"
      ]
    },
    {
      "cell_type": "markdown",
      "metadata": {
        "id": "1GxHmyj5Ht5E"
      },
      "source": [
        "\n",
        "# Lab 1\n",
        "## Introduction to Juypter, Python and Numpy\n",
        "### John H. Williamson 2022/2023\n",
        "<div class=\"alert alert-block alert-success\">\n",
        "\n",
        "\n",
        "# Unassessed\n",
        "\n",
        "</div>\n",
        "\n"
      ]
    },
    {
      "cell_type": "markdown",
      "metadata": {
        "id": "t0qvSjZQHt5F"
      },
      "source": [
        "This lab is intended to introduce you to the basic use of the Juypter+Python+Numpy environment, and show how the autograding in exercises works.You will get a mark (so you can see how autograding works), but this **will not count towards your final grade**. \n",
        "\n",
        "It is strongly recommended that you complete this exercise fully. This will take around two hours if you already know some NumPy.\n",
        "\n",
        "\n",
        "## Purpose of this lab\n",
        "This lab should help you:\n",
        "\n",
        "* create simple arrays\n",
        "* index and slice arrays\n",
        "* stack arrays together\n",
        "* compute simple statistics of arrays\n",
        "* understand array arithmetic and broadcasting rules\n",
        "* apply conditions to arrays and use Boolean indexing"
      ]
    },
    {
      "cell_type": "markdown",
      "metadata": {
        "id": "T7hg3LZ7Ht5F"
      },
      "source": [
        "\n",
        "\n",
        "# 1: Jupyter\n",
        "If you have not used Jupyter before [jump to the Jupyter Quickstart](guides/JupyterGuide.ipynb) before continuing. If you have done Level 1 Computing Science, you do not need to do this."
      ]
    },
    {
      "cell_type": "markdown",
      "metadata": {
        "id": "rIkPVMaUHt5G"
      },
      "source": [
        "## 2: Autograder tests\n",
        "\n",
        "Lab exercises will (mainly) be autograded via automatic tests."
      ]
    },
    {
      "cell_type": "markdown",
      "metadata": {
        "id": "dcZCrrDPHt5G"
      },
      "source": [
        "The following parts have some questions to answer, and some tests (which you cannot alter) which will be run against the code you have written. If the tests pass, you will see how many marks you got with a green tick. If they do not pass, you will see a red cross. Remember, this exercise doesn't count for anything, but do try to complete the exercises."
      ]
    },
    {
      "cell_type": "code",
      "execution_count": 2,
      "metadata": {
        "ExecuteTime": {
          "end_time": "2021-10-12T08:29:51.179320Z",
          "start_time": "2021-10-12T08:29:49.873439Z"
        },
        "colab": {
          "base_uri": "https://localhost:8080/"
        },
        "id": "g2ho0WjUHt5H",
        "outputId": "9c8f433b-c06c-4f0f-8488-448434ea0b67"
      },
      "outputs": [
        {
          "output_type": "stream",
          "name": "stdout",
          "text": [
            "Everything imported OK\n"
          ]
        }
      ],
      "source": [
        "# Make sure you run this cell!\n",
        "from utils.tick import reset_marks, summarise_marks, marks\n",
        "from utils.checkarr import array_hash, check_hash\n",
        "import numpy as np  # NumPy\n",
        "from utils.matrices import print_matrix, show_boxed_tensor_latex\n",
        "\n",
        "# Set up Matplotlib\n",
        "import matplotlib as mpl   \n",
        "import matplotlib.pyplot as plt\n",
        "%matplotlib inline\n",
        "\n",
        "import utils.image_audio as ia\n",
        "\n",
        "reset_marks()\n",
        "print(\"Everything imported OK\")\n"
      ]
    },
    {
      "cell_type": "markdown",
      "metadata": {
        "id": "cMJoI22OHt5I"
      },
      "source": [
        "Here's a free 4 marks:"
      ]
    },
    {
      "cell_type": "code",
      "execution_count": 3,
      "metadata": {
        "ExecuteTime": {
          "end_time": "2021-10-12T08:29:51.537406Z",
          "start_time": "2021-10-12T08:29:51.529598Z"
        },
        "deletable": false,
        "editable": false,
        "nbgrader": {
          "cell_type": "code",
          "checksum": "e97196e7fa3c3eb1440c4f0651b40613",
          "grade": true,
          "grade_id": "cell-b12d0a22c191c138",
          "locked": true,
          "points": 4,
          "schema_version": 3,
          "solution": false
        },
        "colab": {
          "base_uri": "https://localhost:8080/",
          "height": 75
        },
        "id": "Ss-BlO2wHt5I",
        "outputId": "d5fd69b9-c2cc-4913-e8ab-97419a9bcfcd"
      },
      "outputs": [
        {
          "output_type": "stream",
          "name": "stdout",
          "text": [
            "Hello world\n"
          ]
        },
        {
          "output_type": "display_data",
          "data": {
            "text/plain": [
              "<IPython.core.display.HTML object>"
            ],
            "text/html": [
              "<h3> <!--{id:\"CORRECTMARK\", marks:\"4\"}--> <font color=\"green\"> ✓ [4 marks] </font> </h3>"
            ]
          },
          "metadata": {}
        }
      ],
      "source": [
        "with marks(4):\n",
        "    print(\"Hello world\")"
      ]
    },
    {
      "cell_type": "markdown",
      "metadata": {
        "id": "SqSPWunfHt5J"
      },
      "source": [
        "And here's what happens when you have an error. Try setting `a` to 1, and making sure you can get this to pass. "
      ]
    },
    {
      "cell_type": "code",
      "execution_count": 4,
      "metadata": {
        "ExecuteTime": {
          "end_time": "2021-09-28T12:50:04.672712Z",
          "start_time": "2021-09-28T12:50:04.661711Z"
        },
        "deletable": false,
        "nbgrader": {
          "cell_type": "code",
          "checksum": "4e9b30481bd737b0ef8d9084469747ac",
          "grade": false,
          "grade_id": "cell-3040ccf7669e107d",
          "locked": false,
          "schema_version": 3,
          "solution": true
        },
        "id": "Ks1ikGjjHt5J"
      },
      "outputs": [],
      "source": [
        "a = 2\n",
        "# YOUR CODE HERE\n",
        "a = 1"
      ]
    },
    {
      "cell_type": "code",
      "execution_count": 5,
      "metadata": {
        "ExecuteTime": {
          "end_time": "2021-09-28T12:50:04.814710Z",
          "start_time": "2021-09-28T12:50:04.808713Z"
        },
        "deletable": false,
        "editable": false,
        "nbgrader": {
          "cell_type": "code",
          "checksum": "4afb7e95b6cd89b13d16b5213a1fe1df",
          "grade": true,
          "grade_id": "cell-221df43d91c7b63b",
          "locked": true,
          "points": 3,
          "schema_version": 3,
          "solution": false
        },
        "colab": {
          "base_uri": "https://localhost:8080/",
          "height": 58
        },
        "id": "JFVM1tN-Ht5J",
        "outputId": "b8e192a9-6932-4fb0-d59b-bfb4807a6270"
      },
      "outputs": [
        {
          "output_type": "display_data",
          "data": {
            "text/plain": [
              "<IPython.core.display.HTML object>"
            ],
            "text/html": [
              "<h3> <!--{id:\"CORRECTMARK\", marks:\"3\"}--> <font color=\"green\"> ✓ [3 marks] </font> </h3>"
            ]
          },
          "metadata": {}
        }
      ],
      "source": [
        "with marks(3):\n",
        "    assert(a==1)"
      ]
    },
    {
      "cell_type": "markdown",
      "metadata": {
        "id": "5_v8UmrUHt5J"
      },
      "source": [
        "----------------\n"
      ]
    },
    {
      "cell_type": "markdown",
      "metadata": {
        "id": "9Q1g703YHt5K"
      },
      "source": [
        "# 4. Introduction to NumPy\n",
        "\n",
        "We will be using [numpy](numpy.org) as the basis for our numerical operations. This provides a datatype called `ndarray`, that can be used to store and manipulate arrays of numbers."
      ]
    },
    {
      "cell_type": "markdown",
      "metadata": {
        "id": "ZnUJQ_rBHt5K"
      },
      "source": [
        "<div class=\"alert alert-block alert-warning\">\n",
        "    \n",
        "## NumPy worked example\n",
        "\n",
        "If you have not used NumPy before or if you are rusty **[then work through the example before starting](guides/numpy_example.ipynb)**\n",
        "\n",
        "</div>\n",
        "\n",
        "---"
      ]
    },
    {
      "cell_type": "markdown",
      "metadata": {
        "id": "woR56m1mHt5K"
      },
      "source": [
        "## References and cheat sheets\n",
        "\n",
        "If you are stuck, the following resources are very helpful:\n",
        "\n",
        "### Cheatsheets\n",
        "* [NumPy cheatsheet](https://github.com/juliangaal/python-cheat-sheet/tree/master/NumPy)\n",
        "* [Python for Data Science cheatsheet](https://s3.amazonaws.com/assets.datacamp.com/blog_assets/PythonForDataScience.pdf)\n",
        "* [Another NumPy Cheatsheet](https://s3.amazonaws.com/assets.datacamp.com/blog_assets/Numpy_Python_Cheat_Sheet.pdf)\n",
        "\n",
        "### API reference and user guide\n",
        "* [NumPy API reference](https://docs.scipy.org/doc/numpy-1.13.0/reference/)\n",
        "* [NumPy user guide](https://docs.scipy.org/doc/numpy-1.13.0/user/basics.html)\n",
        "\n"
      ]
    },
    {
      "cell_type": "markdown",
      "metadata": {
        "id": "sV6BSu4qHt5K"
      },
      "source": [
        "-----\n",
        "# NumPy\n",
        "\n",
        "The foundation package for numerical operations is **NumPy** which provides an array type and accelerated operations on it. \n",
        "\n",
        "A very important part of using numerical libraries like numpy is **vectorising operations**: avoiding explicit loops over values in the arrays and instead using library functions to do manipulations. It is *massively* faster to have numpy add to arrays together than to iterate over the elements adding them together in Python."
      ]
    },
    {
      "cell_type": "markdown",
      "metadata": {
        "id": "UntLzyEKHt5L"
      },
      "source": [
        "### Good: vectorized"
      ]
    },
    {
      "cell_type": "code",
      "execution_count": 6,
      "metadata": {
        "ExecuteTime": {
          "end_time": "2021-09-28T12:50:11.915859Z",
          "start_time": "2021-09-28T12:50:11.904857Z"
        },
        "lines_to_next_cell": 2,
        "id": "78G_3jSsHt5L"
      },
      "outputs": [],
      "source": [
        "a = np.zeros((5, 5))\n",
        "b = np.ones((5, 5))\n",
        "y = np.zeros((5, 5))\n",
        "\n",
        "# YES: do things like this\n",
        "# a and b are NumPy arrays\n",
        "x = a + b"
      ]
    },
    {
      "cell_type": "markdown",
      "metadata": {
        "id": "qaQS0zaBHt5L"
      },
      "source": [
        "### Bad: explicit iteration"
      ]
    },
    {
      "cell_type": "code",
      "execution_count": 7,
      "metadata": {
        "ExecuteTime": {
          "end_time": "2021-09-28T12:50:11.915859Z",
          "start_time": "2021-09-28T12:50:11.904857Z"
        },
        "lines_to_next_cell": 2,
        "id": "iBQiQ5BkHt5L"
      },
      "outputs": [],
      "source": [
        "# NO: don't do this\n",
        "# this is very inefficient\n",
        "for i in range(a.shape[0]):\n",
        "    for j in range(a.shape[1]):\n",
        "        y[i, j] = a[i, j] + b[i, j]"
      ]
    },
    {
      "cell_type": "markdown",
      "metadata": {
        "id": "cDTHE1MEHt5L"
      },
      "source": [
        "## No for loops (unless specified)\n",
        "In this lab **do not** use explicit loops, like `while` or `for`, unless the question explicitly asks you to. **In future labs you may need to use the occasional `for` loop**, but try and avoid them where possible."
      ]
    },
    {
      "cell_type": "markdown",
      "metadata": {
        "id": "l5wcx_J8Ht5M"
      },
      "source": [
        "NumPy provides the **np.array** class which is a n-dimensional array of numbers **of the same type**. Arrays can be created in several ways: from a Python list (and nD arrays from nested lists), as a \"blank\" matrix of zeros or ones or random data, by copying existing arrays, loaded from disk or from certain special functions.\n",
        "\n",
        "**You can always make a copy of an array using np.array() on an existing array** (e.g. `x = np.array(y)` makes a new **copy** of y). `np.array()` will also convert any iterable object (lists, tuples) into an array if it can. Note that a few operations will *change arrays in place*, and most will *return new copies*."
      ]
    },
    {
      "cell_type": "code",
      "execution_count": 8,
      "metadata": {
        "ExecuteTime": {
          "end_time": "2020-09-29T12:39:38.519688Z",
          "start_time": "2020-09-29T12:39:38.513704Z"
        },
        "colab": {
          "base_uri": "https://localhost:8080/",
          "height": 90
        },
        "id": "TfOgG0I9Ht5M",
        "outputId": "61c8ee92-3bba-41b9-ba64-82c627489f21"
      },
      "outputs": [
        {
          "output_type": "stream",
          "name": "stdout",
          "text": [
            "[1. 2. 3. 4.]\n"
          ]
        },
        {
          "output_type": "display_data",
          "data": {
            "text/plain": [
              "<IPython.core.display.Latex object>"
            ],
            "text/latex": "$x = \\left[\\begin{matrix}1.0 & 2.0 & 3.0 & 4.0\\end{matrix}\\right]$"
          },
          "metadata": {}
        },
        {
          "output_type": "stream",
          "name": "stdout",
          "text": [
            "float64\n",
            "(4,)\n"
          ]
        }
      ],
      "source": [
        "x = np.array([1.0, 2.0, 3.0, 4.0])  # create an array from a list\n",
        "print(x)  # print the array\n",
        "\n",
        "# print the matrix, but nicer (note: the first string is a LaTeX expression)\n",
        "print_matrix(\"x\", x)\n",
        "\n",
        "print(x.dtype)  # datatype\n",
        "print(x.shape)  # shape of array"
      ]
    },
    {
      "cell_type": "markdown",
      "metadata": {
        "id": "QO-0GLm9Ht5M"
      },
      "source": [
        "# 1: Create some arrays\n",
        "Create the following arrays, with the following specifications:\n",
        "(**don't** use `np.array` to do this). If you don't know how to do this,\n",
        "look at the worked example, or look at the cheatsheet or API reference.\n",
        "\n",
        "Use `np.zeros`, `np.ones`, `np.full`, `np.arange` and `np.random.normal` to solve these questions.\n",
        "\n",
        "* `x`: a 8 x 8 matrix of all zeros\n",
        "* `y`: a 2 element vector, with all elements equal to `np.pi`\n",
        "* `z`: a 1 x 2 x 5 element array of all ones.\n",
        "* `q`: an 1D array with 10 elements, from 0-18 (inclusive), stepping by 2. \n",
        "* `r`: an 400 element array, random numbers normally distributed with mean 0, std. dev. 1.0 **(don't print this one out)**\n",
        "\n",
        "Print out your arrays using `show_tensor_latex` to see if they look right.\n",
        "\n",
        "Check that the tests pass. "
      ]
    },
    {
      "cell_type": "code",
      "execution_count": 24,
      "metadata": {
        "ExecuteTime": {
          "end_time": "2021-09-28T12:52:29.740330Z",
          "start_time": "2021-09-28T12:52:29.723330Z"
        },
        "deletable": false,
        "nbgrader": {
          "cell_type": "code",
          "checksum": "b1fb4c3624e6f876e85f1ef5ca373491",
          "grade": false,
          "grade_id": "cell-c190eec8e4831a17",
          "locked": false,
          "schema_version": 3,
          "solution": true
        },
        "id": "QtKV7X9-Ht5M"
      },
      "outputs": [],
      "source": [
        "# YOUR CODE HERE\n",
        "x = np.zeros((8,8))\n",
        "y = np.full((1,2), np.pi)[0]\n",
        "z = np.ones((1,2,5))\n",
        "q = np.arange(19, step=2)\n",
        "r = np.random.normal(0,1.0,400)"
      ]
    },
    {
      "cell_type": "code",
      "execution_count": 11,
      "metadata": {
        "ExecuteTime": {
          "end_time": "2021-09-28T12:52:29.980330Z",
          "start_time": "2021-09-28T12:52:29.961332Z"
        },
        "deletable": false,
        "editable": false,
        "nbgrader": {
          "cell_type": "code",
          "checksum": "782e35b48aaec16920eb6d7ba0b51b57",
          "grade": true,
          "grade_id": "cell-7a8e23b3cc2d7bea",
          "locked": true,
          "points": 1,
          "schema_version": 3,
          "solution": false
        },
        "colab": {
          "base_uri": "https://localhost:8080/",
          "height": 58
        },
        "id": "sbmYTutVHt5M",
        "outputId": "d14f2a73-116d-4685-d6a3-c24b2754e09b"
      },
      "outputs": [
        {
          "output_type": "display_data",
          "data": {
            "text/plain": [
              "<IPython.core.display.HTML object>"
            ],
            "text/html": [
              "<h3> <!--{id:\"CORRECTMARK\", marks:\"1\"}--> <font color=\"green\"> ✓ [1 marks] </font> </h3>"
            ]
          },
          "metadata": {}
        }
      ],
      "source": [
        "with marks(1):\n",
        "    assert(check_hash(x,((8, 8), 0.0)))"
      ]
    },
    {
      "cell_type": "code",
      "execution_count": 18,
      "metadata": {
        "ExecuteTime": {
          "end_time": "2021-09-28T12:52:30.659328Z",
          "start_time": "2021-09-28T12:52:30.641330Z"
        },
        "deletable": false,
        "editable": false,
        "nbgrader": {
          "cell_type": "code",
          "checksum": "db6d69b1a6e505b6ffdb0c9d6d1295d2",
          "grade": true,
          "grade_id": "cell-3eccab087d4c343c",
          "locked": true,
          "points": 1,
          "schema_version": 3,
          "solution": false
        },
        "colab": {
          "base_uri": "https://localhost:8080/",
          "height": 58
        },
        "id": "F3Y3O_s0Ht5N",
        "outputId": "899ab4b0-60c6-4840-ffdb-4ed73722817a"
      },
      "outputs": [
        {
          "output_type": "display_data",
          "data": {
            "text/plain": [
              "<IPython.core.display.HTML object>"
            ],
            "text/html": [
              "<h3> <!--{id:\"CORRECTMARK\", marks:\"1\"}--> <font color=\"green\"> ✓ [1 marks] </font> </h3>"
            ]
          },
          "metadata": {}
        }
      ],
      "source": [
        "with marks(1):\n",
        "    assert(check_hash(y, ((2,),  21.991148575128552)))"
      ]
    },
    {
      "cell_type": "code",
      "execution_count": 20,
      "metadata": {
        "ExecuteTime": {
          "end_time": "2021-09-28T12:52:31.118654Z",
          "start_time": "2021-09-28T12:52:31.111657Z"
        },
        "deletable": false,
        "editable": false,
        "nbgrader": {
          "cell_type": "code",
          "checksum": "295ca3b0343ebfe6025dc1ed6b56c6ff",
          "grade": true,
          "grade_id": "cell-c3cd5694245364b2",
          "locked": true,
          "points": 1,
          "schema_version": 3,
          "solution": false
        },
        "colab": {
          "base_uri": "https://localhost:8080/",
          "height": 58
        },
        "id": "P97WLij2Ht5N",
        "outputId": "2f185ab1-a695-49e1-9f90-3cb4204f0d19"
      },
      "outputs": [
        {
          "output_type": "display_data",
          "data": {
            "text/plain": [
              "<IPython.core.display.HTML object>"
            ],
            "text/html": [
              "<h3> <!--{id:\"CORRECTMARK\", marks:\"1\"}--> <font color=\"green\"> ✓ [1 marks] </font> </h3>"
            ]
          },
          "metadata": {}
        }
      ],
      "source": [
        "with marks(1):\n",
        "    assert(check_hash(z, ((1, 2, 5), 59.0)))"
      ]
    },
    {
      "cell_type": "code",
      "execution_count": 23,
      "metadata": {
        "ExecuteTime": {
          "end_time": "2021-09-28T12:52:31.358073Z",
          "start_time": "2021-09-28T12:52:31.345076Z"
        },
        "deletable": false,
        "editable": false,
        "nbgrader": {
          "cell_type": "code",
          "checksum": "81471ce90849af53865b260129e80657",
          "grade": true,
          "grade_id": "cell-f6fd4fc0f0e04fba",
          "locked": true,
          "points": 1,
          "schema_version": 3,
          "solution": false
        },
        "colab": {
          "base_uri": "https://localhost:8080/",
          "height": 58
        },
        "id": "_KzJ4z8LHt5N",
        "outputId": "e72f03b1-791b-4316-b1f2-99de5f12650d"
      },
      "outputs": [
        {
          "output_type": "display_data",
          "data": {
            "text/plain": [
              "<IPython.core.display.HTML object>"
            ],
            "text/html": [
              "<h3> <!--{id:\"CORRECTMARK\", marks:\"1\"}--> <font color=\"green\"> ✓ [1 marks] </font> </h3>"
            ]
          },
          "metadata": {}
        }
      ],
      "source": [
        "with marks(1):\n",
        "    assert(check_hash(q,((10,), 701.744562646538)))"
      ]
    },
    {
      "cell_type": "code",
      "execution_count": 25,
      "metadata": {
        "ExecuteTime": {
          "end_time": "2021-09-28T12:52:31.548106Z",
          "start_time": "2021-09-28T12:52:31.532107Z"
        },
        "deletable": false,
        "editable": false,
        "nbgrader": {
          "cell_type": "code",
          "checksum": "24ce545cbd4b6184ef6c42da937859ac",
          "grade": true,
          "grade_id": "cell-8bc8bfb07bb942f3",
          "locked": true,
          "points": 1,
          "schema_version": 3,
          "solution": false
        },
        "colab": {
          "base_uri": "https://localhost:8080/",
          "height": 58
        },
        "id": "P6RQr11aHt5N",
        "outputId": "36bb8e7d-ca74-4267-b48d-c30895b55ca3"
      },
      "outputs": [
        {
          "output_type": "display_data",
          "data": {
            "text/plain": [
              "<IPython.core.display.HTML object>"
            ],
            "text/html": [
              "<h3> <!--{id:\"CORRECTMARK\", marks:\"1\"}--> <font color=\"green\"> ✓ [1 marks] </font> </h3>"
            ]
          },
          "metadata": {}
        }
      ],
      "source": [
        "with marks(1):\n",
        "    assert(r.shape==(400,)  and np.std(r)>0.75 and np.std(r)<1.5 and np.all(np.diff(r.ravel())!=0.0))"
      ]
    },
    {
      "cell_type": "markdown",
      "metadata": {
        "id": "rEZpBeQGHt5N"
      },
      "source": [
        "## 2: How to keep snails alive\n",
        "\n",
        "<img src=\"imgs/snails.jpg\" width=\"50%\">*([Image](https://flickr.com/photos/chodhound/6083328289 \"Snail\") by [ChodHound](https://flickr.com/people/chodhound) license [CC BY-SA](https://creativecommons.org/licenses/by-sa/2.0/))*\n",
        "\n",
        "Scientists at the Zoology Department, The University of Adelaide have studied the best conditions to keep snails alive. They have recorded a dataset of observations of snail mortality under controlled conditions. This data set is in the file `data/snails.txt`.\n",
        "\n",
        "#### An excerpt from the data set description\n",
        "\n",
        "    \n",
        ">Groups of 20 snails were held for periods of 1, 2, 3 or 4 weeks in carefully\n",
        "controlled conditions of temperature and relative humidity. There were two\n",
        "species of snail, 0 and 1. At the end of the exposure time the snails\n",
        "were tested to see if they had survived. \n",
        "\n",
        ">The data are unusual in that in most cases fatalities during the experiment\n",
        "were fairly small. [lucky snails!]\n",
        "\n",
        "\n",
        "\n",
        "### The task\n",
        "The data is a 2D array, and has six columns, with these definitions:\n",
        "            \n",
        "            0              1                 2                3                 4          5\n",
        "     species(binary) | exposure(weeks) | humidity(%) | temperature(deg. C) | n_deaths | n_snails\n",
        "    \n",
        "Each row represents one set of observations (i.e. one group of snails). You are to compute some basic properties of this data. Use NumPy operations to do the computations."
      ]
    },
    {
      "cell_type": "markdown",
      "metadata": {
        "id": "u_JsYjBjHt5N"
      },
      "source": [
        "A. **Loading arrays** \n",
        "* Load this data as a NumPy array called `snails`. Note: use NumPy functions to do this! **Do not parse the file yourself** The file is space delimited.\n",
        "* Print it out. Use this format to print out the results:\n",
        "    \n",
        "      print(\"snails\\n\", snails)"
      ]
    },
    {
      "cell_type": "code",
      "execution_count": 28,
      "metadata": {
        "ExecuteTime": {
          "end_time": "2021-09-28T12:52:34.392829Z",
          "start_time": "2021-09-28T12:52:34.377832Z"
        },
        "deletable": false,
        "nbgrader": {
          "cell_type": "code",
          "checksum": "e78328305e8ae4cf73bdfcbb79717614",
          "grade": false,
          "grade_id": "cell-6d0228523852fbcb",
          "locked": false,
          "schema_version": 3,
          "solution": true
        },
        "id": "ujWdd6mDHt5O"
      },
      "outputs": [],
      "source": [
        "# YOUR CODE HERE\n",
        "snails = np.loadtxt(\"./data/snails.txt\", delimiter=\" \")"
      ]
    },
    {
      "cell_type": "code",
      "execution_count": 27,
      "metadata": {
        "ExecuteTime": {
          "end_time": "2021-09-28T12:52:34.567832Z",
          "start_time": "2021-09-28T12:52:34.549831Z"
        },
        "deletable": false,
        "editable": false,
        "nbgrader": {
          "cell_type": "code",
          "checksum": "ad5236d9ba89f79a7c73da87680821e8",
          "grade": true,
          "grade_id": "cell-d7f4d07872174036",
          "locked": true,
          "points": 2,
          "schema_version": 3,
          "solution": false
        },
        "colab": {
          "base_uri": "https://localhost:8080/",
          "height": 58
        },
        "id": "5ee46f2qHt5O",
        "outputId": "2d32e305-6cc7-4b8c-b35f-5de208f6c410"
      },
      "outputs": [
        {
          "output_type": "display_data",
          "data": {
            "text/plain": [
              "<IPython.core.display.HTML object>"
            ],
            "text/html": [
              "<h3> <!--{id:\"CORRECTMARK\", marks:\"2\"}--> <font color=\"green\"> ✓ [2 marks] </font> </h3>"
            ]
          },
          "metadata": {}
        }
      ],
      "source": [
        "with marks(2):\n",
        "    assert(check_hash(snails, ((96, 6), 3082003.4024073719)))"
      ]
    },
    {
      "cell_type": "markdown",
      "metadata": {
        "id": "7ePBrc8GHt5O"
      },
      "source": [
        "B. **Basic indexing** \n",
        "Compute the following results, storing the results in the variable specified and printing them out. Use the same printing format as A.\n",
        "\n",
        "\n",
        "* `temp_first` the temperature in the first entry in the table. \n",
        "* `hum_diff` the *absolute* difference in humidity between the first and the last entry in the table.\n",
        "* `weeks` the whole column of \"weeks exposure\".\n",
        "* `row_fifth` the fifth row of observations. (remember 0 indexing)\n"
      ]
    },
    {
      "cell_type": "code",
      "execution_count": null,
      "metadata": {
        "ExecuteTime": {
          "end_time": "2021-09-28T12:52:35.186904Z",
          "start_time": "2021-09-28T12:52:35.167906Z"
        },
        "deletable": false,
        "nbgrader": {
          "cell_type": "code",
          "checksum": "a6f54581d2bcd31351e1c0d9bf236a57",
          "grade": false,
          "grade_id": "cell-17f2099d91b3038f",
          "locked": false,
          "schema_version": 3,
          "solution": true
        },
        "id": "YaCHkDMFHt5O"
      },
      "outputs": [],
      "source": [
        "# YOUR CODE HERE"
      ]
    },
    {
      "cell_type": "code",
      "execution_count": null,
      "metadata": {
        "ExecuteTime": {
          "end_time": "2021-09-28T12:52:35.376945Z",
          "start_time": "2021-09-28T12:52:35.366946Z"
        },
        "deletable": false,
        "editable": false,
        "nbgrader": {
          "cell_type": "code",
          "checksum": "1f6e0bfbafc850c3d0ef3d3308c64f69",
          "grade": true,
          "grade_id": "cell-3bd461f1be410f75",
          "locked": true,
          "points": 1,
          "schema_version": 3,
          "solution": false
        },
        "id": "KxlQkuiYHt5O"
      },
      "outputs": [],
      "source": [
        "\n",
        "with marks(1):\n",
        "    assert(check_hash(hum_diff, ((), 78.9)))"
      ]
    },
    {
      "cell_type": "code",
      "execution_count": null,
      "metadata": {
        "ExecuteTime": {
          "end_time": "2021-09-28T12:52:35.612050Z",
          "start_time": "2021-09-28T12:52:35.601052Z"
        },
        "deletable": false,
        "editable": false,
        "nbgrader": {
          "cell_type": "code",
          "checksum": "122054ec43e93851604df5d93a2614a4",
          "grade": true,
          "grade_id": "cell-590385cd63ae790d",
          "locked": true,
          "points": 1,
          "schema_version": 3,
          "solution": false
        },
        "id": "D19fxKbzHt5O"
      },
      "outputs": [],
      "source": [
        "with marks(1):\n",
        "    assert(check_hash(temp_first, ((), 50.0)))"
      ]
    },
    {
      "cell_type": "code",
      "execution_count": null,
      "metadata": {
        "ExecuteTime": {
          "end_time": "2021-09-28T12:52:35.877508Z",
          "start_time": "2021-09-28T12:52:35.857516Z"
        },
        "deletable": false,
        "editable": false,
        "nbgrader": {
          "cell_type": "code",
          "checksum": "ee9ac2f87ff4f7134b0dd0ca4b6422f3",
          "grade": true,
          "grade_id": "cell-19028943888ae090",
          "locked": true,
          "points": 1,
          "schema_version": 3,
          "solution": false
        },
        "id": "Yt2jMmfwHt5P"
      },
      "outputs": [],
      "source": [
        "with marks(1):\n",
        "    assert(check_hash(weeks, ((96,), 13091.118033988751)))\n",
        "    "
      ]
    },
    {
      "cell_type": "code",
      "execution_count": null,
      "metadata": {
        "ExecuteTime": {
          "end_time": "2021-09-28T12:52:36.051545Z",
          "start_time": "2021-09-28T12:52:36.037547Z"
        },
        "deletable": false,
        "editable": false,
        "nbgrader": {
          "cell_type": "code",
          "checksum": "4b31130fa851783267df6f0542d1c268",
          "grade": true,
          "grade_id": "cell-57e22f24be8159a7",
          "locked": true,
          "points": 1,
          "schema_version": 3,
          "solution": false
        },
        "id": "ZQhAlXQMHt5P"
      },
      "outputs": [],
      "source": [
        "with marks(1):\n",
        "    assert(check_hash(row_fifth, ((6,), 493.3630504844565)))"
      ]
    },
    {
      "cell_type": "markdown",
      "metadata": {
        "id": "2rc_z0TKHt5P"
      },
      "source": [
        "C. **Aggregate functions** \n",
        "Compute the following results, storing the results in the variable specified and printing them out:\n",
        "\n",
        "* `total_deaths` total number of snails that died\n",
        "* `total_still_alive` total number of snails that survived the whole study\n",
        "* `mean_temp` mean temperature in the whole study\n",
        "* `max_humidity` highest humidity in the study\n",
        "* `average_death_rate` mean of the ratio of snail deaths to snails in the study\n",
        "* `snail_weeks` the total amount of snail effort that went into this study (number of snails times number of weeks)\n",
        "\n",
        "Each computation should be a single line of code"
      ]
    },
    {
      "cell_type": "code",
      "execution_count": null,
      "metadata": {
        "ExecuteTime": {
          "end_time": "2021-09-28T12:53:00.211770Z",
          "start_time": "2021-09-28T12:53:00.198775Z"
        },
        "deletable": false,
        "nbgrader": {
          "cell_type": "code",
          "checksum": "9fe2e79124934b57970dc4ee192c54f9",
          "grade": false,
          "grade_id": "cell-427021397b9a50b2",
          "locked": false,
          "schema_version": 3,
          "solution": true
        },
        "id": "OCsWEQHlHt5P"
      },
      "outputs": [],
      "source": [
        "# YOUR CODE HERE"
      ]
    },
    {
      "cell_type": "code",
      "execution_count": null,
      "metadata": {
        "ExecuteTime": {
          "end_time": "2021-09-28T12:53:00.781119Z",
          "start_time": "2021-09-28T12:53:00.761125Z"
        },
        "deletable": false,
        "editable": false,
        "nbgrader": {
          "cell_type": "code",
          "checksum": "bb333615ed50bb17dbd0d041de426156",
          "grade": true,
          "grade_id": "cell-12aba5ae7c698554",
          "locked": true,
          "points": 2,
          "schema_version": 3,
          "solution": false
        },
        "id": "Nh0jVJzGHt5P"
      },
      "outputs": [],
      "source": [
        "with marks(2):\n",
        "    assert(check_hash(total_deaths, ((), 1375.0)))\n",
        "    "
      ]
    },
    {
      "cell_type": "code",
      "execution_count": null,
      "metadata": {
        "ExecuteTime": {
          "end_time": "2021-09-28T12:53:01.114838Z",
          "start_time": "2021-09-28T12:53:01.099837Z"
        },
        "deletable": false,
        "editable": false,
        "nbgrader": {
          "cell_type": "code",
          "checksum": "b34e288fada748a549fa1ee263640ce8",
          "grade": true,
          "grade_id": "cell-0799d88a4e889521",
          "locked": true,
          "points": 2,
          "schema_version": 3,
          "solution": false
        },
        "id": "3iH6red7Ht5P"
      },
      "outputs": [],
      "source": [
        "with marks(2):\n",
        "    assert(check_hash(total_still_alive, ((), 8225.0)))"
      ]
    },
    {
      "cell_type": "code",
      "execution_count": null,
      "metadata": {
        "ExecuteTime": {
          "end_time": "2021-09-28T12:53:01.320836Z",
          "start_time": "2021-09-28T12:53:01.307838Z"
        },
        "deletable": false,
        "editable": false,
        "nbgrader": {
          "cell_type": "code",
          "checksum": "e6e28cbbd041f0641e1b60ea67b1eebc",
          "grade": true,
          "grade_id": "cell-e3030fa5597a6a3c",
          "locked": true,
          "points": 2,
          "schema_version": 3,
          "solution": false
        },
        "id": "TxmOCrnzHt5P"
      },
      "outputs": [],
      "source": [
        "with marks(2):\n",
        "    assert(check_hash(mean_temp, ((), 75.0)))"
      ]
    },
    {
      "cell_type": "code",
      "execution_count": null,
      "metadata": {
        "ExecuteTime": {
          "end_time": "2021-09-28T12:53:01.495836Z",
          "start_time": "2021-09-28T12:53:01.488837Z"
        },
        "deletable": false,
        "editable": false,
        "nbgrader": {
          "cell_type": "code",
          "checksum": "1c39202785960bf5793a09883d066d77",
          "grade": true,
          "grade_id": "cell-d7b5c4b686b8e185",
          "locked": true,
          "points": 2,
          "schema_version": 3,
          "solution": false
        },
        "id": "vOq_0kdLHt5P"
      },
      "outputs": [],
      "source": [
        "\n",
        "with marks(2):\n",
        "    assert(check_hash(max_humidity, ((), 379.0)))"
      ]
    },
    {
      "cell_type": "code",
      "execution_count": null,
      "metadata": {
        "ExecuteTime": {
          "end_time": "2021-09-28T12:53:01.984002Z",
          "start_time": "2021-09-28T12:53:01.964005Z"
        },
        "deletable": false,
        "editable": false,
        "nbgrader": {
          "cell_type": "code",
          "checksum": "b15b4aa297dca4f83b664e2c72c26b0d",
          "grade": true,
          "grade_id": "cell-759195cd947bae30",
          "locked": true,
          "points": 3,
          "schema_version": 3,
          "solution": false
        },
        "id": "8mcvOVunHt5Q"
      },
      "outputs": [],
      "source": [
        "with marks(3):\n",
        "    assert(check_hash(average_death_rate, ((), 0.71614583333333326)))"
      ]
    },
    {
      "cell_type": "code",
      "execution_count": null,
      "metadata": {
        "ExecuteTime": {
          "end_time": "2021-09-28T12:53:02.461827Z",
          "start_time": "2021-09-28T12:53:02.440832Z"
        },
        "deletable": false,
        "editable": false,
        "nbgrader": {
          "cell_type": "code",
          "checksum": "3b8542069b02d95b398ec1d83dcdaee7",
          "grade": true,
          "grade_id": "cell-e75b606eb7b69e7a",
          "locked": true,
          "points": 3,
          "schema_version": 3,
          "solution": false
        },
        "id": "XvopU2jPHt5Q"
      },
      "outputs": [],
      "source": [
        "with marks(3):\n",
        "    assert(check_hash(snail_weeks, ((), 24000.0)))"
      ]
    },
    {
      "cell_type": "markdown",
      "metadata": {
        "id": "icTZ6fUTHt5Q"
      },
      "source": [
        "D. **Boolean indexing**\n",
        "Compute the following results, storing the results in the variable specified and printing them out:\n",
        "\n",
        "* `species_0` and `species_1`: split the dataset into two arrays, one with the entries for species 0 and one with the entries for species 1.\n",
        "    * Remember: Boolean arrays can be used *directly* as indices.\n",
        "\n",
        "* `weakest_snail` the snail species (0 or 1) that had the highest average death rate"
      ]
    },
    {
      "cell_type": "code",
      "execution_count": null,
      "metadata": {
        "ExecuteTime": {
          "end_time": "2021-09-28T12:53:02.938836Z",
          "start_time": "2021-09-28T12:53:02.919838Z"
        },
        "deletable": false,
        "nbgrader": {
          "cell_type": "code",
          "checksum": "23353a244442a9448a868a06d9fc5259",
          "grade": false,
          "grade_id": "cell-2fb2b916ca1d1254",
          "locked": false,
          "schema_version": 3,
          "solution": true
        },
        "id": "tDZm0_IkHt5Q"
      },
      "outputs": [],
      "source": [
        "# YOUR CODE HERE"
      ]
    },
    {
      "cell_type": "code",
      "execution_count": null,
      "metadata": {
        "ExecuteTime": {
          "end_time": "2021-09-28T12:53:03.490391Z",
          "start_time": "2021-09-28T12:53:03.482397Z"
        },
        "deletable": false,
        "editable": false,
        "nbgrader": {
          "cell_type": "code",
          "checksum": "0fb4dbdbd0641f100df0d9962962c153",
          "grade": true,
          "grade_id": "cell-33631e32555140e0",
          "locked": true,
          "points": 5,
          "schema_version": 3,
          "solution": false
        },
        "id": "XsUb4RvXHt5Q"
      },
      "outputs": [],
      "source": [
        "with marks(5):\n",
        "    assert(check_hash(species_0, ((48, 6), 762041.58357993606)))\n",
        "    assert(check_hash(species_1, ((48, 6), 791902.31693958596)))  "
      ]
    },
    {
      "cell_type": "code",
      "execution_count": null,
      "metadata": {
        "ExecuteTime": {
          "end_time": "2021-09-28T12:53:03.917998Z",
          "start_time": "2021-09-28T12:53:03.897005Z"
        },
        "deletable": false,
        "editable": false,
        "nbgrader": {
          "cell_type": "code",
          "checksum": "cd3f4d48371d0d7ee17ae2bdc99d8323",
          "grade": true,
          "grade_id": "cell-7405a52cf551031d",
          "locked": true,
          "points": 3,
          "schema_version": 3,
          "solution": false
        },
        "id": "uwVgeMhjHt5Q"
      },
      "outputs": [],
      "source": [
        "with marks(3):\n",
        "    assert(check_hash(weakest_snail, ((), 5.0)))"
      ]
    },
    {
      "cell_type": "markdown",
      "metadata": {
        "id": "n6gpk5A7Ht5Q"
      },
      "source": [
        "E. **Arithmetic and ordering**\n",
        "Compute the following results, storing the results in the variable specified and printing them out:\n",
        "\n",
        "* `deg_f` each temperature in the study, but in degrees Fahrenheit. Use the knowledge that `0C = 32F, 100C = 212F`\n",
        "* `mean_cols` the mean of all the columns, as a 1D vector\n",
        "* `death_rate` the death rates, in sorted order, smallest first\n",
        "* `exposure_death_order` the exposure durations (in weeks), but in sorted in the order of death rates, smallest death rate first.\n",
        "\n",
        "* `best_temp`, `best_hum` the best temperature and humidity to keep a snail for four weeks without it dying. *Look only at the four week exposures, ignoring snails kept for less than this time.* "
      ]
    },
    {
      "cell_type": "code",
      "execution_count": null,
      "metadata": {
        "ExecuteTime": {
          "end_time": "2021-09-28T12:53:04.507186Z",
          "start_time": "2021-09-28T12:53:04.495186Z"
        },
        "deletable": false,
        "nbgrader": {
          "cell_type": "code",
          "checksum": "b044f91be862b5819ab6923507918aae",
          "grade": false,
          "grade_id": "cell-965b0640474113ac",
          "locked": false,
          "schema_version": 3,
          "solution": true
        },
        "id": "tN3OoA63Ht5Q"
      },
      "outputs": [],
      "source": [
        "# YOUR CODE HERE"
      ]
    },
    {
      "cell_type": "code",
      "execution_count": null,
      "metadata": {
        "ExecuteTime": {
          "end_time": "2021-09-28T12:53:05.125776Z",
          "start_time": "2021-09-28T12:53:05.104781Z"
        },
        "deletable": false,
        "editable": false,
        "nbgrader": {
          "cell_type": "code",
          "checksum": "e3f4d52aead096bf2dad8758c59aef70",
          "grade": true,
          "grade_id": "cell-9aca90f5ed692ce6",
          "locked": true,
          "points": 1,
          "schema_version": 3,
          "solution": false
        },
        "id": "hxtKmvfTHt5R"
      },
      "outputs": [],
      "source": [
        "with marks(1):\n",
        "    assert(check_hash(deg_f, ((96,), 275523.34846922837)))"
      ]
    },
    {
      "cell_type": "code",
      "execution_count": null,
      "metadata": {
        "ExecuteTime": {
          "end_time": "2021-09-28T12:53:05.474088Z",
          "start_time": "2021-09-28T12:53:05.458092Z"
        },
        "deletable": false,
        "editable": false,
        "nbgrader": {
          "cell_type": "code",
          "checksum": "aad6818604c1ebfc5aa3b31b0decdc1e",
          "grade": true,
          "grade_id": "cell-7d0f86f908ce2a87",
          "locked": true,
          "points": 1,
          "schema_version": 3,
          "solution": false
        },
        "id": "4WzWGl9IHt5R"
      },
      "outputs": [],
      "source": [
        "with marks(1):\n",
        "    assert(check_hash(mean_cols, ((6,), 522.92336963727359)))"
      ]
    },
    {
      "cell_type": "code",
      "execution_count": null,
      "metadata": {
        "ExecuteTime": {
          "end_time": "2021-09-28T12:53:05.710270Z",
          "start_time": "2021-09-28T12:53:05.700269Z"
        },
        "deletable": false,
        "editable": false,
        "nbgrader": {
          "cell_type": "code",
          "checksum": "546d0afa5c19e36b867519fd485edebd",
          "grade": true,
          "grade_id": "cell-e8a171753a823a96",
          "locked": true,
          "points": 2,
          "schema_version": 3,
          "solution": false
        },
        "id": "YZJbm8R5Ht5R"
      },
      "outputs": [],
      "source": [
        "with marks(2):\n",
        "    assert(check_hash(death_rate, ((96,), 1100.9803982902313)))"
      ]
    },
    {
      "cell_type": "code",
      "execution_count": null,
      "metadata": {
        "ExecuteTime": {
          "end_time": "2021-09-28T12:53:05.882267Z",
          "start_time": "2021-09-28T12:53:05.865271Z"
        },
        "deletable": false,
        "editable": false,
        "nbgrader": {
          "cell_type": "code",
          "checksum": "cbae946fbd136019f30c45572ea8fecc",
          "grade": true,
          "grade_id": "cell-554ca9fb59641ac9",
          "locked": true,
          "points": 2,
          "schema_version": 3,
          "solution": false
        },
        "id": "V0Zev5YtHt5R"
      },
      "outputs": [],
      "source": [
        "with marks(2):\n",
        "    assert(check_hash(exposure_death_order, ((96,), 13983.118033988751)))"
      ]
    },
    {
      "cell_type": "code",
      "execution_count": null,
      "metadata": {
        "ExecuteTime": {
          "end_time": "2021-09-28T12:53:06.039284Z",
          "start_time": "2021-09-28T12:53:06.029283Z"
        },
        "deletable": false,
        "editable": false,
        "nbgrader": {
          "cell_type": "code",
          "checksum": "934705be030b7f7ba974a6c067c0e942",
          "grade": true,
          "grade_id": "cell-22bc20db6ce8b95e",
          "locked": true,
          "points": 3,
          "schema_version": 3,
          "solution": false
        },
        "id": "NwAoxl4XHt5R"
      },
      "outputs": [],
      "source": [
        "with marks(3):\n",
        "    assert(check_hash(best_temp, ((), 50.0)))"
      ]
    },
    {
      "cell_type": "code",
      "execution_count": null,
      "metadata": {
        "ExecuteTime": {
          "end_time": "2021-09-28T12:53:06.212471Z",
          "start_time": "2021-09-28T12:53:06.207469Z"
        },
        "deletable": false,
        "editable": false,
        "nbgrader": {
          "cell_type": "code",
          "checksum": "302fe6cb3b4c3aa85bd393b45a456350",
          "grade": true,
          "grade_id": "cell-36ed1c66c64c5946",
          "locked": true,
          "points": 3,
          "schema_version": 3,
          "solution": false
        },
        "id": "WlE7FxjlHt5R"
      },
      "outputs": [],
      "source": [
        "with marks(3):\n",
        "    assert(check_hash(best_hum, ((), 379.0)))      "
      ]
    },
    {
      "cell_type": "markdown",
      "metadata": {
        "id": "lajTByN9Ht5R"
      },
      "source": [
        "## 3: Image operations\n",
        "Images can be represented as numerical arrays. We will use images as an example to explore NumPy functionality.\n",
        "\n",
        "* `img = ia.load_image_colour('filename.png')` will load an image as an array.\n",
        "* `ia.show_image(img)` will show it in the notebook.\n",
        "    "
      ]
    },
    {
      "cell_type": "markdown",
      "metadata": {
        "id": "j4kON0LgHt5R"
      },
      "source": [
        "A)\n",
        "\n",
        "We will:\n",
        "* Load `data/parrots.png` as `img_array` \n",
        "* Print out its shape and dtype\n",
        "* Show the image."
      ]
    },
    {
      "cell_type": "code",
      "execution_count": null,
      "metadata": {
        "ExecuteTime": {
          "end_time": "2021-10-12T09:13:59.452207Z",
          "start_time": "2021-10-12T09:13:59.245261Z"
        },
        "id": "9ST4_tThHt5S"
      },
      "outputs": [],
      "source": [
        "img_array = ia.load_image_colour(\"data/parrots.png\")\n",
        "print(img_array.shape, img_array.dtype)\n",
        "ia.show_image(img_array)"
      ]
    },
    {
      "cell_type": "code",
      "execution_count": null,
      "metadata": {
        "ExecuteTime": {
          "end_time": "2021-10-12T09:14:44.809180Z",
          "start_time": "2021-10-12T09:14:44.589548Z"
        },
        "id": "sf2b4eavHt5S"
      },
      "outputs": [],
      "source": [
        "copies = np.tile(img_array, (10, 1, 1, 1))\n",
        "print(copies.shape)\n",
        "ia.show_image(copies[0])"
      ]
    },
    {
      "cell_type": "markdown",
      "metadata": {
        "id": "QBxI_JGuHt5S"
      },
      "source": [
        "B) **Slicing arrays**\n",
        "* Create an array `cropped` which has the pixels from [150,100] to [350,300]. Note that these positions are in `[row, col]` format, not `[x,y]`.\n",
        "* Display the cropped array using `show_image()`. \n",
        "* Remember: the image is `WxHx3`. Think about how to slice the last dimension.\n",
        "* Show the cropped image so you can see it."
      ]
    },
    {
      "cell_type": "code",
      "execution_count": null,
      "metadata": {
        "ExecuteTime": {
          "end_time": "2021-09-28T12:53:07.404492Z",
          "start_time": "2021-09-28T12:53:07.394493Z"
        },
        "deletable": false,
        "nbgrader": {
          "cell_type": "code",
          "checksum": "fb7b6c5d879664d34dff6fe4351f900e",
          "grade": false,
          "grade_id": "cell-e55532295e444bd0",
          "locked": false,
          "schema_version": 3,
          "solution": true
        },
        "id": "m7M9I84vHt5S"
      },
      "outputs": [],
      "source": [
        "\n",
        "# YOUR CODE HERE"
      ]
    },
    {
      "cell_type": "code",
      "execution_count": null,
      "metadata": {
        "ExecuteTime": {
          "end_time": "2021-09-28T12:53:07.610492Z",
          "start_time": "2021-09-28T12:53:07.580494Z"
        },
        "deletable": false,
        "editable": false,
        "nbgrader": {
          "cell_type": "code",
          "checksum": "0fae6bb8fe2ec257e70707605f38f768",
          "grade": true,
          "grade_id": "cell-1065728e6cf70cf4",
          "locked": true,
          "points": 4,
          "schema_version": 3,
          "solution": false
        },
        "id": "EgDpwc5dHt5S"
      },
      "outputs": [],
      "source": [
        "ia.show_image(cropped)\n",
        "with marks(4):\n",
        "    assert(check_hash(cropped, ((200, 200, 3), 3409234926.1084023)))"
      ]
    },
    {
      "cell_type": "markdown",
      "metadata": {
        "id": "QJa-vxVaHt5S"
      },
      "source": [
        "C)  **Modifying arrays**\n",
        "\n",
        "Create an array \"censored\" which is the same as `img_array`, but has a black bar across the following regions to protect the parrot's privacy:\n",
        "\n",
        "    * [200,100] -> [260, 310]\n",
        "    * [140, 400]-> [200, 650]\n",
        "\n",
        "Setting array elements to zero will make them black.\n",
        "\n",
        "**Do not modify the original `img_array`**"
      ]
    },
    {
      "cell_type": "code",
      "execution_count": null,
      "metadata": {
        "ExecuteTime": {
          "end_time": "2021-09-28T12:53:08.596636Z",
          "start_time": "2021-09-28T12:53:08.575640Z"
        },
        "deletable": false,
        "nbgrader": {
          "cell_type": "code",
          "checksum": "337313e012a1fc155325456c266f5e1e",
          "grade": false,
          "grade_id": "cell-6615e422ecee6b7e",
          "locked": false,
          "schema_version": 3,
          "solution": true
        },
        "id": "0EKSyKAlHt5S"
      },
      "outputs": [],
      "source": [
        "# YOUR CODE HERE"
      ]
    },
    {
      "cell_type": "code",
      "execution_count": null,
      "metadata": {
        "ExecuteTime": {
          "end_time": "2021-09-28T12:53:09.556568Z",
          "start_time": "2021-09-28T12:53:09.321570Z"
        },
        "deletable": false,
        "editable": false,
        "nbgrader": {
          "cell_type": "code",
          "checksum": "229b3a0367762250128110c80d8d1dc8",
          "grade": true,
          "grade_id": "cell-fc66e323769d8a84",
          "locked": true,
          "points": 4,
          "schema_version": 3,
          "solution": false
        },
        "id": "nfa4xUSmHt5S"
      },
      "outputs": [],
      "source": [
        "ia.show_image(censored)\n",
        "with marks(4):\n",
        "    assert(check_hash(censored, ((512, 768, 3), 250654064351.74332)))\n",
        "    assert(check_hash(img_array, ((512, 768, 3), 269458072078.68924)))"
      ]
    },
    {
      "cell_type": "markdown",
      "metadata": {
        "id": "awNphDYUHt5S"
      },
      "source": [
        "D) **Stacking arrays**\n",
        "\n",
        "Using *one* `for` loop, create a *list* of arrays which represent a panning animation which is a sequence of cropped versions of `img_array`. \n",
        "\n",
        "* The crops should start at [190,30] and be 200 pixels wide and 100 pixels high, and move 12 pixels right and 2 pixels up in each frame (that means the column index increases by 12, and the row index decreases by 2). \n",
        "* Create 30 frames. All of them will be the same size.\n",
        "* Stack the array into a single array called `panning_array`.\n",
        "\n",
        "Your code should be less than 15 lines (excluding any comments)!\n",
        "\n",
        "(Optional extra: Work out how to use the [PIL](https://pillow.readthedocs.io/en/stable/) package to add a comedy caption to the animation).\n"
      ]
    },
    {
      "cell_type": "code",
      "execution_count": null,
      "metadata": {
        "ExecuteTime": {
          "end_time": "2021-10-12T08:31:01.254441Z",
          "start_time": "2021-10-12T08:31:01.244682Z"
        },
        "deletable": false,
        "nbgrader": {
          "cell_type": "code",
          "checksum": "ad852099ebf9214b378662add97fc6e0",
          "grade": false,
          "grade_id": "cell-3d8d7655e04e7662",
          "locked": false,
          "schema_version": 3,
          "solution": true
        },
        "id": "H9gkHirUHt5T"
      },
      "outputs": [],
      "source": [
        "# YOUR CODE HERE"
      ]
    },
    {
      "cell_type": "code",
      "execution_count": null,
      "metadata": {
        "deletable": false,
        "nbgrader": {
          "cell_type": "code",
          "checksum": "89f28251fa68393bb834cb0faa1a4ebb",
          "grade": false,
          "grade_id": "cell-7b663903137cc2cd",
          "locked": false,
          "schema_version": 3,
          "solution": true,
          "task": false
        },
        "id": "0yfB-f6sHt5T"
      },
      "outputs": [],
      "source": [
        "# YOUR CODE HERE"
      ]
    },
    {
      "cell_type": "code",
      "execution_count": null,
      "metadata": {
        "ExecuteTime": {
          "end_time": "2021-10-12T08:32:41.073241Z",
          "start_time": "2021-10-12T08:32:41.068362Z"
        },
        "deletable": false,
        "nbgrader": {
          "cell_type": "code",
          "checksum": "f0151c2fdd48214ddc03ff608f88577b",
          "grade": false,
          "grade_id": "cell-3d8d7655e04e7660",
          "locked": false,
          "schema_version": 3,
          "solution": true
        },
        "id": "IJPwKfl1Ht5T"
      },
      "outputs": [],
      "source": [
        "# YOUR CODE HERE"
      ]
    },
    {
      "cell_type": "code",
      "execution_count": null,
      "metadata": {
        "ExecuteTime": {
          "end_time": "2021-10-12T08:32:42.270549Z",
          "start_time": "2021-10-12T08:32:42.101503Z"
        },
        "deletable": false,
        "editable": false,
        "lines_to_next_cell": 0,
        "nbgrader": {
          "cell_type": "code",
          "checksum": "60b7aff698c8dea8f3e0b9de96d035bc",
          "grade": true,
          "grade_id": "cell-b0bf82f051dbe3ef",
          "locked": true,
          "points": 10,
          "schema_version": 3,
          "solution": false
        },
        "id": "g3NW_TPGHt5T"
      },
      "outputs": [],
      "source": [
        "ia.show_gif(panning_array, width=\"80%\")\n",
        "\n",
        "with marks(10):\n",
        "    assert(check_hash(panning_array,((30, 100, 200, 3), 834973352307.7242)))"
      ]
    },
    {
      "cell_type": "markdown",
      "metadata": {
        "id": "q8hriqbyHt5T"
      },
      "source": [
        "\n"
      ]
    },
    {
      "cell_type": "markdown",
      "metadata": {
        "id": "-Ywy4eJMHt5T"
      },
      "source": [
        "-----\n",
        "\n",
        "# Submission instructions"
      ]
    },
    {
      "cell_type": "markdown",
      "metadata": {
        "id": "tJ1z9ff5Ht5T"
      },
      "source": [
        "## Before submission\n",
        "\n",
        "* Make sure you fill in any place that says `YOUR CODE HERE` or `\"YOUR ANSWER HERE\"`.\n",
        "* SAVE THE NOTEBOOK\n",
        "\n",
        "\n",
        "\n"
      ]
    },
    {
      "cell_type": "markdown",
      "metadata": {
        "id": "pio1gRL7Ht5T"
      },
      "source": [
        "<div class=\"alert alert-block alert-danger\">\n",
        "    \n",
        "### Formatting the submission\n",
        "* **WARNING**: If you do not submit the correct file, you will not get any marks.\n",
        "* Submit this file **only** on Moodle. It will be named `<xxx>.ipynb`.\n",
        "\n",
        "</div>"
      ]
    },
    {
      "cell_type": "markdown",
      "metadata": {
        "id": "RoDvNPzRHt5U"
      },
      "source": [
        "\n",
        "## Penalties (only for assessed labs)\n",
        "<font color=\"red\">\n",
        "    \n",
        "**Malformatted submissions**\n",
        "</font>\n",
        "These assignments are processed with an automatic tool; failure to follow instructions *precisely* will lead to you automatically losing two bands in grade regardless of whether the work is correct (not to mention a long delay in getting your work back). **If you submit a file without your work in it, it will be marked and you will get 0 marks.**\n",
        "\n",
        "<font color=\"red\">**Late submission**</font>\n",
        "Be aware that there is a two band penalty for every *day* of late submission, starting the moment of the deadline.\n",
        "\n",
        "<font color=\"red\">\n",
        "    \n",
        "**Plagiarism**\n",
        "</font> Plagiarism will be subject to the Plagiarism Policy. The penalties are severe."
      ]
    },
    {
      "cell_type": "code",
      "execution_count": null,
      "metadata": {
        "id": "hhH4VWQ6Ht5U"
      },
      "outputs": [],
      "source": []
    }
  ],
  "metadata": {
    "kernelspec": {
      "display_name": "Python 3 (ipykernel)",
      "language": "python",
      "name": "python3"
    },
    "language_info": {
      "codemirror_mode": {
        "name": "ipython",
        "version": 3
      },
      "file_extension": ".py",
      "mimetype": "text/x-python",
      "name": "python",
      "nbconvert_exporter": "python",
      "pygments_lexer": "ipython3",
      "version": "3.9.12"
    },
    "toc": {
      "base_numbering": 1,
      "nav_menu": {},
      "number_sections": true,
      "sideBar": true,
      "skip_h1_title": false,
      "title_cell": "Table of Contents",
      "title_sidebar": "Contents",
      "toc_cell": false,
      "toc_position": {},
      "toc_section_display": "block",
      "toc_window_display": false
    },
    "varInspector": {
      "cols": {
        "lenName": 16,
        "lenType": 16,
        "lenVar": 40
      },
      "kernels_config": {
        "python": {
          "delete_cmd_postfix": "",
          "delete_cmd_prefix": "del ",
          "library": "var_list.py",
          "varRefreshCmd": "print(var_dic_list())"
        },
        "r": {
          "delete_cmd_postfix": ") ",
          "delete_cmd_prefix": "rm(",
          "library": "var_list.r",
          "varRefreshCmd": "cat(var_dic_list()) "
        }
      },
      "types_to_exclude": [
        "module",
        "function",
        "builtin_function_or_method",
        "instance",
        "_Feature"
      ],
      "window_display": false
    },
    "colab": {
      "provenance": [],
      "collapsed_sections": [
        "ZnUJQ_rBHt5K",
        "woR56m1mHt5K",
        "lajTByN9Ht5R",
        "tJ1z9ff5Ht5T",
        "pio1gRL7Ht5T"
      ]
    }
  },
  "nbformat": 4,
  "nbformat_minor": 0
}